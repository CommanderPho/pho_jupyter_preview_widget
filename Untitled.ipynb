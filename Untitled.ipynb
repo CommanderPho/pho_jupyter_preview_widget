{
 "cells": [
  {
   "cell_type": "code",
   "execution_count": 3,
   "id": "dae0bd50-6610-4484-bf8f-35c081665656",
   "metadata": {},
   "outputs": [
    {
     "name": "stdout",
     "output_type": "stream",
     "text": [
      "Automatic pdb calling has been turned OFF\n",
      "The autoreload extension is already loaded. To reload it, use:\n",
      "  %reload_ext autoreload\n"
     ]
    }
   ],
   "source": [
    "%config IPCompleter.use_jedi = False\n",
    "%pdb off\n",
    "%load_ext autoreload\n",
    "%autoreload 3\n",
    "\n",
    "import numpy as np\n",
    "import pandas as pd\n",
    "\n",
    "import IPython\n",
    "from IPython.core.formatters import PlainTextFormatter\n",
    "from IPython import get_ipython\n",
    "from IPython.display import display, HTML\n",
    "\n"
   ]
  },
  {
   "cell_type": "code",
   "execution_count": null,
   "id": "ea19667e",
   "metadata": {},
   "outputs": [],
   "source": [
    "import pho_jupyter_preview_widget\n",
    "\n",
    "from pho_jupyter_preview_widget import pho_jupyter_preview_widget \n",
    "\n",
    "# pho_jupyter_preview_widget.pho_jupyter_preview_widget.display_helpers import array_preview_with_shape\n",
    "\n",
    "import pho_jupyter_preview_widget.array_shape_display\n",
    "# pho_jupyter_preview_widget.array_shape_display"
   ]
  },
  {
   "cell_type": "code",
   "execution_count": 4,
   "id": "7609021e",
   "metadata": {},
   "outputs": [
    {
     "ename": "ImportError",
     "evalue": "cannot import name 'array_repr_html' from 'pho_jupyter_preview_widget.array_shape_display' (unknown location)",
     "output_type": "error",
     "traceback": [
      "\u001b[1;31m---------------------------------------------------------------------------\u001b[0m",
      "\u001b[1;31mImportError\u001b[0m                               Traceback (most recent call last)",
      "Cell \u001b[1;32mIn[4], line 1\u001b[0m\n\u001b[1;32m----> 1\u001b[0m \u001b[38;5;28;01mimport\u001b[39;00m\u001b[38;5;250m \u001b[39m\u001b[38;5;21;01mpho_jupyter_preview_widget\u001b[39;00m\n\u001b[0;32m      4\u001b[0m \u001b[38;5;28;01mfrom\u001b[39;00m\u001b[38;5;250m \u001b[39m\u001b[38;5;21;01mpho_jupyter_preview_widget\u001b[39;00m\u001b[38;5;21;01m.\u001b[39;00m\u001b[38;5;21;01mdisplay_helpers\u001b[39;00m\u001b[38;5;250m \u001b[39m\u001b[38;5;28;01mimport\u001b[39;00m array_repr_with_graphical_preview\n\u001b[0;32m      5\u001b[0m \u001b[38;5;28;01mfrom\u001b[39;00m\u001b[38;5;250m \u001b[39m\u001b[38;5;21;01mpho_jupyter_preview_widget\u001b[39;00m\u001b[38;5;21;01m.\u001b[39;00m\u001b[38;5;21;01mipython_helpers\u001b[39;00m\u001b[38;5;250m \u001b[39m\u001b[38;5;28;01mimport\u001b[39;00m PreviewWidgetMagics\n",
      "File \u001b[1;32mc:\\Users\\pho\\repos\\Spike3DWorkEnv\\pho_jupyter_preview_widget\\pho_jupyter_preview_widget\\__init__.py:2\u001b[0m\n\u001b[0;32m      1\u001b[0m \u001b[38;5;66;03m# Import and expose key functionality\u001b[39;00m\n\u001b[1;32m----> 2\u001b[0m \u001b[38;5;28;01mfrom\u001b[39;00m\u001b[38;5;250m \u001b[39m\u001b[38;5;21;01m.\u001b[39;00m\u001b[38;5;250m \u001b[39m\u001b[38;5;28;01mimport\u001b[39;00m display_helpers\n\u001b[0;32m      3\u001b[0m \u001b[38;5;28;01mfrom\u001b[39;00m\u001b[38;5;250m \u001b[39m\u001b[38;5;21;01m.\u001b[39;00m\u001b[38;5;250m \u001b[39m\u001b[38;5;28;01mimport\u001b[39;00m ipython_helpers\n\u001b[0;32m      4\u001b[0m \u001b[38;5;28;01mfrom\u001b[39;00m\u001b[38;5;250m \u001b[39m\u001b[38;5;21;01m.\u001b[39;00m\u001b[38;5;250m \u001b[39m\u001b[38;5;28;01mimport\u001b[39;00m widget\n",
      "File \u001b[1;32mc:\\Users\\pho\\repos\\Spike3DWorkEnv\\pho_jupyter_preview_widget\\pho_jupyter_preview_widget\\display_helpers.py:11\u001b[0m\n\u001b[0;32m      9\u001b[0m \u001b[38;5;28;01mimport\u001b[39;00m\u001b[38;5;250m \u001b[39m\u001b[38;5;21;01mpandas\u001b[39;00m\u001b[38;5;250m \u001b[39m\u001b[38;5;28;01mas\u001b[39;00m\u001b[38;5;250m \u001b[39m\u001b[38;5;21;01mpd\u001b[39;00m\n\u001b[0;32m     10\u001b[0m \u001b[38;5;66;03m# import dask.array as da\u001b[39;00m\n\u001b[1;32m---> 11\u001b[0m \u001b[38;5;28;01mfrom\u001b[39;00m\u001b[38;5;250m \u001b[39m\u001b[38;5;21;01mpho_jupyter_preview_widget\u001b[39;00m\u001b[38;5;21;01m.\u001b[39;00m\u001b[38;5;21;01marray_shape_display\u001b[39;00m\u001b[38;5;250m \u001b[39m\u001b[38;5;28;01mimport\u001b[39;00m array_repr_html\n\u001b[0;32m     13\u001b[0m \u001b[38;5;28;01mimport\u001b[39;00m\u001b[38;5;250m \u001b[39m\u001b[38;5;21;01mipykernel\u001b[39;00m \u001b[38;5;66;03m# ip: \"ipykernel.zmqshell.ZMQInteractiveShell)\" = IPython.get_ipython()\u001b[39;00m\n\u001b[0;32m     14\u001b[0m \u001b[38;5;28;01mfrom\u001b[39;00m\u001b[38;5;250m \u001b[39m\u001b[38;5;21;01mIPython\u001b[39;00m\u001b[38;5;21;01m.\u001b[39;00m\u001b[38;5;21;01mdisplay\u001b[39;00m\u001b[38;5;250m \u001b[39m\u001b[38;5;28;01mimport\u001b[39;00m display, HTML, Javascript\n",
      "\u001b[1;31mImportError\u001b[0m: cannot import name 'array_repr_html' from 'pho_jupyter_preview_widget.array_shape_display' (unknown location)"
     ]
    }
   ],
   "source": [
    "import pho_jupyter_preview_widget\n",
    "\n",
    "\n",
    "from pho_jupyter_preview_widget.display_helpers import array_repr_with_graphical_preview\n",
    "from pho_jupyter_preview_widget.ipython_helpers import PreviewWidgetMagics\n",
    "\n",
    "# from pho_jupyter_preview_widget.display_helpers import array_repr_with_graphical_preview\n",
    "# from pho_jupyter_preview_widget.ipython_helpers import PreviewWidgetMagics\n",
    "\n",
    "\n",
    "ip = get_ipython()\n",
    "\n",
    "# Register the magic\n",
    "ip.register_magics(PreviewWidgetMagics)\n",
    "\n",
    "# from pyphocorehelpers.ipython_helpers import MyMagics\n",
    "# %config_ndarray_preview width=500\n",
    "\n",
    "# Register the custom display function for NumPy arrays\n",
    "# ip.display_formatter.formatters['text/html'].for_type(np.ndarray, lambda arr: array_preview_with_graphical_shape_repr_html(arr))\n",
    "# ip = array_repr_with_graphical_shape(ip=ip)\n",
    "ip = array_repr_with_graphical_preview(ip=ip)\n",
    "# ip = dataframe_show_more_button(ip=ip)\n"
   ]
  },
  {
   "cell_type": "code",
   "execution_count": null,
   "id": "9408fee5",
   "metadata": {},
   "outputs": [],
   "source": [
    "test_data = [\n",
    "\tnp.array([119.191, 142.107, 180.3, 191.757, 245.227, 84.8181]),\n",
    "\tnp.array([84.8181, 84.8181, 138.288]),\n",
    "\tnp.array([134.469, 69.5411]),\n",
    "\tnp.array([249.046]),\n",
    "\tnp.array([249.046, 249.046]),\n",
    "]\n",
    "\n",
    "# Display the widget in the notebook\n",
    "display(test_data)\n",
    "test_data"
   ]
  },
  {
   "cell_type": "code",
   "execution_count": null,
   "id": "0c4ae6bf",
   "metadata": {},
   "outputs": [],
   "source": [
    "', '.join([v.strip(' ') for v in np.array2string(test_data[0], separator=',').split(',')]) # , precision=2, suppress_small=True\n",
    "# print(test_data[0])\n",
    "# repr(test_data[0])\n",
    "# v: str = '204.8  '\n",
    "# v.strip(' ')"
   ]
  },
  {
   "cell_type": "code",
   "execution_count": null,
   "id": "5d975521-ed6e-4b4e-9579-b3ae42af36f5",
   "metadata": {},
   "outputs": [],
   "source": [
    "test_ndarray: np.array = np.ones((10, 10))\n",
    "test_ndarray\n"
   ]
  },
  {
   "cell_type": "code",
   "execution_count": null,
   "id": "3a37e78e",
   "metadata": {},
   "outputs": [],
   "source": []
  }
 ],
 "metadata": {
  "kernelspec": {
   "display_name": "pho-jupyter-preview-widget-x3qUgb1s-py3.9",
   "language": "python",
   "name": "python3"
  },
  "language_info": {
   "codemirror_mode": {
    "name": "ipython",
    "version": 3
   },
   "file_extension": ".py",
   "mimetype": "text/x-python",
   "name": "python",
   "nbconvert_exporter": "python",
   "pygments_lexer": "ipython3",
   "version": "3.9.13"
  }
 },
 "nbformat": 4,
 "nbformat_minor": 5
}
