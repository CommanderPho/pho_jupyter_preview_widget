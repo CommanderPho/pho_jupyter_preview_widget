{
 "cells": [
  {
   "cell_type": "code",
   "execution_count": 1,
   "id": "dae0bd50-6610-4484-bf8f-35c081665656",
   "metadata": {},
   "outputs": [],
   "source": [
    "import IPython\n",
    "from IPython.core.formatters import PlainTextFormatter\n",
    "from IPython import get_ipython\n",
    "from IPython.display import display\n",
    "from pho_jupyter_preview_widget.widget import MyWidget\n",
    "from pho_jupyter_preview_widget.display_helpers import array_repr_with_graphical_preview\n",
    "from pho_jupyter_preview_widget.ipython_helpers import PreviewWidgetMagics\n",
    "\n",
    "ip = get_ipython()\n",
    "\n",
    "# Register the magic\n",
    "ip.register_magics(PreviewWidgetMagics)\n",
    "\n",
    "# from pyphocorehelpers.ipython_helpers import MyMagics\n",
    "# %config_ndarray_preview width=500\n",
    "\n",
    "# Register the custom display function for NumPy arrays\n",
    "# ip.display_formatter.formatters['text/html'].for_type(np.ndarray, lambda arr: array_preview_with_graphical_shape_repr_html(arr))\n",
    "# ip = array_repr_with_graphical_shape(ip=ip)\n",
    "ip = array_repr_with_graphical_preview(ip=ip)\n",
    "# ip = dataframe_show_more_button(ip=ip)\n"
   ]
  },
  {
   "cell_type": "code",
   "execution_count": 2,
   "id": "9408fee5",
   "metadata": {},
   "outputs": [
    {
     "data": {
      "application/vnd.jupyter.widget-view+json": {
       "model_id": "6f4d1c068af14a6cbbcfe194eaf294c3",
       "version_major": 2,
       "version_minor": 0
      },
      "text/plain": [
       "MyWidget()"
      ]
     },
     "metadata": {},
     "output_type": "display_data"
    }
   ],
   "source": [
    "\n",
    "# Create an instance of your widget\n",
    "widget = MyWidget()\n",
    "\n",
    "# Display the widget in the notebook\n",
    "display(widget)\n"
   ]
  },
  {
   "cell_type": "code",
   "execution_count": null,
   "id": "5d975521-ed6e-4b4e-9579-b3ae42af36f5",
   "metadata": {},
   "outputs": [],
   "source": []
  }
 ],
 "metadata": {
  "kernelspec": {
   "display_name": "Python 3 (ipykernel)",
   "language": "python",
   "name": "python3"
  },
  "language_info": {
   "codemirror_mode": {
    "name": "ipython",
    "version": 3
   },
   "file_extension": ".py",
   "mimetype": "text/x-python",
   "name": "python",
   "nbconvert_exporter": "python",
   "pygments_lexer": "ipython3",
   "version": "3.10.9"
  }
 },
 "nbformat": 4,
 "nbformat_minor": 5
}
