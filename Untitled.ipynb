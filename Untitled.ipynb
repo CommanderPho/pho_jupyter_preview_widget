{
 "cells": [
  {
   "cell_type": "code",
   "execution_count": 1,
   "id": "dae0bd50-6610-4484-bf8f-35c081665656",
   "metadata": {},
   "outputs": [
    {
     "name": "stdout",
     "output_type": "stream",
     "text": [
      "Automatic pdb calling has been turned OFF\n"
     ]
    }
   ],
   "source": [
    "%config IPCompleter.use_jedi = False\n",
    "%pdb off\n",
    "%load_ext autoreload\n",
    "%autoreload 3\n",
    "\n",
    "import numpy as np\n",
    "import pandas as pd\n",
    "\n",
    "import IPython\n",
    "from IPython.core.formatters import PlainTextFormatter\n",
    "from IPython import get_ipython\n",
    "from IPython.display import display, HTML\n",
    "\n"
   ]
  },
  {
   "cell_type": "code",
   "execution_count": 2,
   "id": "7609021e",
   "metadata": {},
   "outputs": [],
   "source": [
    "\n",
    "from pho_jupyter_preview_widget.display_helpers import array_repr_with_graphical_preview\n",
    "from pho_jupyter_preview_widget.ipython_helpers import PreviewWidgetMagics\n",
    "\n",
    "\n",
    "ip = get_ipython()\n",
    "\n",
    "# Register the magic\n",
    "ip.register_magics(PreviewWidgetMagics)\n",
    "\n",
    "# from pyphocorehelpers.ipython_helpers import MyMagics\n",
    "# %config_ndarray_preview width=500\n",
    "\n",
    "# Register the custom display function for NumPy arrays\n",
    "# ip.display_formatter.formatters['text/html'].for_type(np.ndarray, lambda arr: array_preview_with_graphical_shape_repr_html(arr))\n",
    "# ip = array_repr_with_graphical_shape(ip=ip)\n",
    "ip = array_repr_with_graphical_preview(ip=ip)\n",
    "# ip = dataframe_show_more_button(ip=ip)\n"
   ]
  },
  {
   "cell_type": "code",
   "execution_count": 3,
   "id": "9408fee5",
   "metadata": {},
   "outputs": [
    {
     "data": {
      "text/html": [
       "\n",
       "                <div style=\"margin-left: 10px;\">\n",
       "                    <pre>[119.191, 142.107, 180.3, 191.757, 245.227, 84.8181], [84.8181, 84.8181, 138.288], [134.469, 69.5411], [249.046], [249.046, 249.046]</pre>\n",
       "                </div>\n",
       "            "
      ],
      "text/plain": [
       "[, , , , ]"
      ]
     },
     "metadata": {},
     "output_type": "display_data"
    },
    {
     "data": {
      "text/html": [
       "\n",
       "                <div style=\"margin-left: 10px;\">\n",
       "                    <pre>[119.191, 142.107, 180.3, 191.757, 245.227, 84.8181], [84.8181, 84.8181, 138.288], [134.469, 69.5411], [249.046], [249.046, 249.046]</pre>\n",
       "                </div>\n",
       "            "
      ],
      "text/plain": [
       "[, , , , ]"
      ]
     },
     "execution_count": 3,
     "metadata": {},
     "output_type": "execute_result"
    }
   ],
   "source": [
    "test_data = [\n",
    "\tnp.array([119.191, 142.107, 180.3, 191.757, 245.227, 84.8181]),\n",
    "\tnp.array([84.8181, 84.8181, 138.288]),\n",
    "\tnp.array([134.469, 69.5411]),\n",
    "\tnp.array([249.046]),\n",
    "\tnp.array([249.046, 249.046]),\n",
    "]\n",
    "\n",
    "# Display the widget in the notebook\n",
    "display(test_data)\n",
    "test_data"
   ]
  },
  {
   "cell_type": "code",
   "execution_count": null,
   "id": "0c4ae6bf",
   "metadata": {},
   "outputs": [],
   "source": [
    "', '.join([v.strip(' ') for v in np.array2string(test_data[0], separator=',').split(',')]) # , precision=2, suppress_small=True\n",
    "# print(test_data[0])\n",
    "# repr(test_data[0])\n",
    "# v: str = '204.8  '\n",
    "# v.strip(' ')"
   ]
  },
  {
   "cell_type": "code",
   "execution_count": null,
   "id": "5d975521-ed6e-4b4e-9579-b3ae42af36f5",
   "metadata": {},
   "outputs": [],
   "source": [
    "test_ndarray: np.array = np.ones((10, 10))\n",
    "test_ndarray\n"
   ]
  },
  {
   "cell_type": "code",
   "execution_count": null,
   "id": "3a37e78e",
   "metadata": {},
   "outputs": [],
   "source": []
  }
 ],
 "metadata": {
  "kernelspec": {
   "display_name": "Python 3 (ipykernel)",
   "language": "python",
   "name": "python3"
  },
  "language_info": {
   "codemirror_mode": {
    "name": "ipython",
    "version": 3
   },
   "file_extension": ".py",
   "mimetype": "text/x-python",
   "name": "python",
   "nbconvert_exporter": "python",
   "pygments_lexer": "ipython3",
   "version": "3.10.9"
  }
 },
 "nbformat": 4,
 "nbformat_minor": 5
}
