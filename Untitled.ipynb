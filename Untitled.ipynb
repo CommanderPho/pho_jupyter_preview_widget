{
 "cells": [
  {
   "cell_type": "code",
   "execution_count": null,
   "id": "dae0bd50-6610-4484-bf8f-35c081665656",
   "metadata": {},
   "outputs": [],
   "source": [
    "from pho_jupyter_preview_widget.widget import MyWidget\n",
    "from IPython.display import display\n",
    "\n",
    "# Create an instance of your widget\n",
    "widget = MyWidget()\n",
    "\n",
    "# Display the widget in the notebook\n",
    "display(widget)\n"
   ]
  },
  {
   "cell_type": "code",
   "execution_count": null,
   "id": "5d975521-ed6e-4b4e-9579-b3ae42af36f5",
   "metadata": {},
   "outputs": [],
   "source": []
  }
 ],
 "metadata": {
  "kernelspec": {
   "display_name": "Python 3 (ipykernel)",
   "language": "python",
   "name": "python3"
  },
  "language_info": {
   "codemirror_mode": {
    "name": "ipython",
    "version": 3
   },
   "file_extension": ".py",
   "mimetype": "text/x-python",
   "name": "python",
   "nbconvert_exporter": "python",
   "pygments_lexer": "ipython3",
   "version": "3.10.9"
  }
 },
 "nbformat": 4,
 "nbformat_minor": 5
}
